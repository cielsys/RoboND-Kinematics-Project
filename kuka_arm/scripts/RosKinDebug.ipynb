{
 "cells": [
  {
   "cell_type": "code",
   "execution_count": 6,
   "metadata": {},
   "outputs": [
    {
     "name": "stdout",
     "output_type": "stream",
     "text": [
      "The autoreload extension is already loaded. To reload it, use:\n",
      "  %reload_ext autoreload\n",
      "Modules to reload:\n",
      "IK_server IK_utils\n",
      "\n",
      "Modules to skip:\n",
      "\n"
     ]
    }
   ],
   "source": [
    "import rospy\n",
    "import tf\n",
    "from kuka_arm.srv import *\n",
    "from trajectory_msgs.msg import JointTrajectory, JointTrajectoryPoint\n",
    "from geometry_msgs.msg import Pose\n",
    "from mpmath import *\n",
    "from sympy import *\n",
    "import numpy\n",
    "import math\n",
    "\n",
    "import collections\n",
    "import types\n",
    "import traceback\n",
    "import pprint\n",
    "pp = pprint.PrettyPrinter(indent=4)\n",
    "\n",
    "#import sys\n",
    "#sys.path.append(\"./kuka_arm/scripts/\")\n",
    "\n",
    "import IK_utils as iku\n",
    "import IK_server as ik\n",
    "#from IK_server import *\n",
    "%load_ext autoreload\n",
    "#%autoreload # Reload all modules now\n",
    "%autoreload 1 # Reload all modules imported with %aimport every time before executing the Python code typed.\n",
    "#%autoreload 2 # Reload all modules (except those excluded by %aimport) every time before executing the Python code typed.\n",
    "%aimport IK_server\n",
    "%aimport IK_utils\n",
    "#List modules on the auto list\n",
    "%aimport "
   ]
  },
  {
   "cell_type": "code",
   "execution_count": 7,
   "metadata": {},
   "outputs": [
    {
     "data": {
      "text/html": [
       "<style> code {background-color : orange !important;} </style>\n",
       "from IPython.core.display import display, HTML\n",
       "display(HTML(\"<style>.container { width:100% !important; }</style>\"))"
      ],
      "text/plain": [
       "<IPython.core.display.HTML object>"
      ]
     },
     "metadata": {},
     "output_type": "display_data"
    }
   ],
   "source": [
    "%%HTML\n",
    "<style> code {background-color : orange !important;} </style>\n",
    "from IPython.core.display import display, HTML\n",
    "display(HTML(\"<style>.container { width:100% !important; }</style>\"))"
   ]
  },
  {
   "cell_type": "code",
   "execution_count": 8,
   "metadata": {},
   "outputs": [],
   "source": [
    "\n",
    "dictTestCases = {\n",
    "    \"JAllZero\":[[[2.153, 0.0, 1.946], [0, 0, 0, 1.0]], # Gripper link (aka End Effector/EE) Requested Pose [Position, OrientationQuat]\n",
    "                  [1.85, 0, 1.95], [0.0, 0.0, 0.0, 0.0, 0.0, 0.0]],  # InverseKinematic response [WC/Joint5 position, Joint1:6 angles]\n",
    "\n",
    "    \"2_-0p5\":[[[1.359, 0.0, 2.664], [0, -0.2472, 0, 0.96891]], # Gripper link (aka End Effector/EE) Requested Pose [Position, OrientationQuat]\n",
    "                  [1.093, 0, 2.519], [0.0, -0.5, 0.0, 0.0, 0.0, 0.0]],  # InverseKinematic response [WC/Joint5 position, Joint1:6 angles]\n",
    "\n",
    "    \"3_-1p0\":[[[1.3696, 0.0, 3.488], [0, -0.47942, 0, 0.87758]], # Gripper link (aka End Effector/EE) Requested Pose [Position, OrientationQuat]\n",
    "                  [1.2059, 0, 3.233], [0.0, 0.0, -1.0, 0.0, 0.0, 0.0]],  # InverseKinematic response [WC/Joint5 position, Joint1:6 angles]\n",
    "\n",
    "    1:[[[2.16135,-1.42635,1.55109], [0.708611,0.186356,-0.157931,0.661967]],\n",
    "                  [1.89451,-1.44302,1.69366], [-0.65,0.45,-0.36,0.95,0.79,0.49]],\n",
    "              \n",
    "              \n",
    "    2:[[[-0.56754,0.93663,3.0038], [0.62073, 0.48318,0.38759,0.480629]],\n",
    "                  [-0.638,0.64198,2.9988], [-0.79,-0.11,-2.33,1.94,1.14,-3.68]],\n",
    "              \n",
    "              \n",
    "    3:[[[-1.3863,0.02074,0.90986], [0.01735,-0.2179,0.9025,0.371016]],\n",
    "                  [-1.1669,-0.17989,0.85137], [-2.99,-0.12,0.94,4.06,1.29,-4.12]],             \n",
    "               }\n"
   ]
  },
  {
   "cell_type": "code",
   "execution_count": 9,
   "metadata": {},
   "outputs": [
    {
     "name": "stdout",
     "output_type": "stream",
     "text": [
      "Started individual transform processing...\n",
      "Finished.\n",
      "saving tfFile /home/cl/catkin_ws/src/RoboND-Kinematics-Project/kuka_arm/scripts/TransformContainer.pypickle\n"
     ]
    }
   ],
   "source": [
    "%autoreload\n",
    "def RunSingleTestCase(testCase):\n",
    "    jointAnglesExpRad, wristCenterExp, poseReqRaw = iku.ExtractRawTestValues(testCase)\n",
    "    poseReq = iku.ConvertRawToPose(poseReqRaw)\n",
    "    if (ik.g_debugPrint):\n",
    "        print(\"@@@@@@@@@@@@@@@@@@@@@@@@ debugPrint @@@@@@@@@@@@@@@@@@@@@@@@\")\n",
    "        print(\"JAExpRad\", jointAngleExpRad)\n",
    "    \n",
    "    \n",
    "    req = type(\"IKReqest\", (object,), {})\n",
    "    req.poses = [poseReq]\n",
    "        \n",
    "    if (True):\n",
    "        print(\"===================== ik ==========================\")\n",
    "        wristCenterCalcList, jointAnglesCalcRad = ik.IKCalculateJointAnglesFromPose(poseReq, ik.g_tf, ik.dh, ik.g_dictDHVals) # HERE IT IS FINALLY\n",
    "        poseCalcUsingExpJA = ik.FKCalcPosefromJointAnglesArr(jointAnglesExpRad)\n",
    "        poseCalcUsingCalcJA = ik.FKCalcPosefromJointAnglesArr(jointAnglesCalcRad)\n",
    "        \n",
    "\n",
    "    if (False):\n",
    "        print(\"@@@@@@@@@@@@@@@@@@@@@@@@ debugPrint @@@@@@@@@@@@@@@@@@@@@@@@\")\n",
    "        print(\"JACalc[0] \", jointAnglesCalcRad[0])\n",
    "        print(\"JACalc \", jointAnglesCalcRad)\n",
    "    \n",
    "    if (False):\n",
    "        iku.FKCalcAllPosesfromJointAnglesArr(jointAnglesExpRad)\n",
    "        \n",
    "    print(\"======== RequestedPose:\")\n",
    "    print(poseReq)\n",
    "    iku.PrintCompare(\"wristCenter\", wristCenterCalcList, wristCenterExp)\n",
    "    iku.PrintCompare(\"jointAnglesRad\", jointAnglesCalcRad, jointAnglesExpRad)\n",
    "    iku.PrintCompare(\"jointAnglesDeg\", map(degrees,jointAnglesCalcRad), map(degrees, jointAnglesExpRad))\n",
    "    iku.PrintCompare(\"Confirm Gripper FKPositions(expectedJointAngles)\", iku.ConvertPoseToRawPosition(poseCalcUsingExpJA), iku.ConvertPoseToRawPosition(poseReq))\n",
    "    iku.PrintCompare(\"Confirm Gripper FKQuaternions(expectedJointAngles)\", iku.ConvertPoseToRawQuaternion(poseCalcUsingExpJA), iku.ConvertPoseToRawQuaternion(poseReq))\n",
    "    iku.PrintCompare(\"Confirm Gripper FKPositions(calcJointAngles)\", iku.ConvertPoseToRawPosition(poseCalcUsingCalcJA), iku.ConvertPoseToRawPosition(poseReq))\n",
    "    iku.PrintCompare(\"Confirm Gripper FKQuaternions(calcJointAngles)\", iku.ConvertPoseToRawQuaternion(poseCalcUsingCalcJA), iku.ConvertPoseToRawQuaternion(poseReq))\n",
    "    return()"
   ]
  },
  {
   "cell_type": "code",
   "execution_count": 10,
   "metadata": {},
   "outputs": [
    {
     "name": "stdout",
     "output_type": "stream",
     "text": [
      "===================== ik ==========================\n",
      "======== RequestedPose:\n",
      "position: \n",
      "  x: 1.359\n",
      "  y: 0.0\n",
      "  z: 2.664\n",
      "orientation: \n",
      "  x: 0\n",
      "  y: -0.2472\n",
      "  z: 0\n",
      "  w: 0.96891\n",
      "========= wristCenter calc/expect/err:\n",
      "['  +1.0930', '  +0.0000', '  +2.5188']\n",
      "['  +1.0930', '  +0.0000', '  +2.5190']\n",
      "['  -0.0000', '  +0.0000', '  +0.0002']\n",
      "\n",
      "========= jointAnglesRad calc/expect/err:\n",
      "['  +0.0000', '  -0.4999', '  -0.0001', '  +0.0000', '  +0.0004', '  +0.0000']\n",
      "['  +0.0000', '  -0.5000', '  +0.0000', '  +0.0000', '  +0.0000', '  +0.0000']\n",
      "['  +0.0000', '  -0.0001', '  +0.0001', '  +0.0000', '  -0.0004', '  -0.0000']\n",
      "\n",
      "========= jointAnglesDeg calc/expect/err:\n",
      "['  +0.0000', ' -28.6434', '  -0.0073', '  +0.0000', '  +0.0253', '  +0.0000']\n",
      "['  +0.0000', ' -28.6479', '  +0.0000', '  +0.0000', '  +0.0000', '  +0.0000']\n",
      "['  +0.0000', '  -0.0045', '  +0.0073', '  +0.0000', '  -0.0253', '  -0.0000']\n",
      "\n",
      "========= Confirm Gripper FKPositions(expectedJointAngles) calc/expect/err:\n",
      "['  +1.3589', '  +2.0000', '  +2.6640']\n",
      "['  +1.3590', '  +0.0000', '  +2.6640']\n",
      "['  +0.0001', '  -2.0000', '  +0.0000']\n",
      "\n",
      "========= Confirm Gripper FKQuaternions(expectedJointAngles) calc/expect/err:\n",
      "['  -0.6025', '  -0.2950', '  +0.6025', '  +0.8299']\n",
      "['  +0.0000', '  -0.2472', '  +0.0000', '  +0.9689']\n",
      "['  +0.6025', '  +0.0478', '  -0.6025', '  +0.1390']\n",
      "\n",
      "========= Confirm Gripper FKPositions(calcJointAngles) calc/expect/err:\n",
      "['  +1.3590', '  +0.0000', '  +2.6640']\n",
      "['  +1.3590', '  +0.0000', '  +2.6640']\n",
      "['  -0.0000', '  +0.0000', '  +0.0000']\n",
      "\n",
      "========= Confirm Gripper FKQuaternions(calcJointAngles) calc/expect/err:\n",
      "['  +0.0000', '  -0.2472', '  +0.0000', '  +0.9690']\n",
      "['  +0.0000', '  -0.2472', '  +0.0000', '  +0.9689']\n",
      "['  -0.0000', '  +0.0000', '  -0.0000', '  -0.0001']\n",
      "\n"
     ]
    },
    {
     "data": {
      "text/plain": [
       "()"
      ]
     },
     "execution_count": 10,
     "metadata": {},
     "output_type": "execute_result"
    }
   ],
   "source": [
    "%autoreload\n",
    "testCase = dictTestCases[\"3_-1p0\"]\n",
    "#testCase = dictTestCases[\"JAllZero\"]\n",
    "testCase = dictTestCases[\"2_-0p5\"]\n",
    "#testCase = dictTestCases[1]\n",
    "#testCase = dictTestCases[2]\n",
    "#testCase = dictTestCases[3]\n",
    "\n",
    "\n",
    "RunSingleTestCase(testCase)"
   ]
  },
  {
   "cell_type": "code",
   "execution_count": null,
   "metadata": {
    "scrolled": true
   },
   "outputs": [],
   "source": [
    "%autoreload\n",
    "def RunAllTestCases(dictTestCases):\n",
    "    for keyTestIndex, testCase in dictTestCases.iteritems():\n",
    "        print(\"############################ Running test case {0} #####################################\".format(keyTestIndex))\n",
    "        RunSingleTestCase(testCase)\n",
    "RunAllTestCases(dictTestCases)"
   ]
  }
 ],
 "metadata": {
  "kernelspec": {
   "display_name": "Python 2",
   "language": "python",
   "name": "python2"
  },
  "language_info": {
   "codemirror_mode": {
    "name": "ipython",
    "version": 2
   },
   "file_extension": ".py",
   "mimetype": "text/x-python",
   "name": "python",
   "nbconvert_exporter": "python",
   "pygments_lexer": "ipython2",
   "version": "2.7.12"
  }
 },
 "nbformat": 4,
 "nbformat_minor": 2
}
